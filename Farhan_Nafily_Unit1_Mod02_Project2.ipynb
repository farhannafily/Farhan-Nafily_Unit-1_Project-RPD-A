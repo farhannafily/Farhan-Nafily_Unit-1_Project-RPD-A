{
  "cells": [
    {
      "cell_type": "markdown",
      "metadata": {
        "collapsed": true,
        "id": "lMBvqyrnl_nw"
      },
      "source": [
        "#  Module 2 Project  \n",
        "Course 40460: Introduction to Python, Unit 1  \n",
        "\n",
        "The activity is based on Modules 1 and 2 and is similar to the Jupyter Notebook for Module 2 practice, which you may have completed.\n",
        "\n",
        "| Some Assignment Requirements |  \n",
        "|:-------------------------------|  \n",
        "| **NOTE:** This program requires that a **function** be defined, created and called. The call will send values based on user input.  The function call must capture a `return` value that is used in print output.  The function will have parameters and `return` a string and should otherwise use code syntax covered in Module 2.  |  \n",
        " \n",
        "## Program: fishstore()\n",
        "Create and test fishstore().\n",
        "- **fishstore() takes 2 string arguments: fish & price**\n",
        "- **fishstore returns a string in sentence form**  \n",
        "- **Gather input for fish_entry and price_entry to use in calling fishstore()**\n",
        "- **Print the return value of fishstore()**\n",
        ">Example of output: **`Fish Type: Guppy costs $1`**"
      ]
    },
    {
      "cell_type": "code",
      "execution_count": 1,
      "metadata": {
        "colab": {
          "base_uri": "https://localhost:8080/"
        },
        "id": "VHdMmZbml_oA",
        "outputId": "d60f027c-aa01-4888-d8a8-3ab030b2c14a"
      },
      "outputs": [
        {
          "output_type": "stream",
          "name": "stdout",
          "text": [
            "type of fish: Kerapu\n",
            "price of fish: 6\n",
            "Fish Type: Kerapu costs $ 6\n"
          ]
        }
      ],
      "source": [
        "# [ ] create, call and test fishstore() function \n",
        "def fishstore(fish_entry,price_entry): #create function called fishstore\n",
        "  print(\"Fish Type:\",fish_entry,\"costs $\",price_entry)#print the value of fish_entry and price_entry\n",
        "  return\n",
        "\n",
        "fish_entry = input(\"type of fish: \")#input fish_entry\n",
        "price_entry = input(\"price of fish: \")#input price_entry\n",
        "fishstore(fish_entry,price_entry)#callup the function\n",
        "\n"
      ]
    },
    {
      "cell_type": "markdown",
      "metadata": {
        "id": "8bbLKVCml_oJ"
      },
      "source": [
        "[Terms of use](http://go.microsoft.com/fwlink/?LinkID=206977) &nbsp; [Privacy & cookies](https://go.microsoft.com/fwlink/?LinkId=521839) &nbsp; © 2017 Microsoft"
      ]
    }
  ],
  "metadata": {
    "anaconda-cloud": {},
    "kernelspec": {
      "display_name": "Python 3",
      "language": "python",
      "name": "python3"
    },
    "language_info": {
      "codemirror_mode": {
        "name": "ipython",
        "version": 3
      },
      "file_extension": ".py",
      "mimetype": "text/x-python",
      "name": "python",
      "nbconvert_exporter": "python",
      "pygments_lexer": "ipython3",
      "version": "3.5.1"
    },
    "colab": {
      "name": "Farhan Nafily_Unit1_Mod02_Project2.ipynb",
      "provenance": [],
      "collapsed_sections": []
    }
  },
  "nbformat": 4,
  "nbformat_minor": 0
}